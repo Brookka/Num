{
 "cells": [
  {
   "cell_type": "code",
   "execution_count": 1,
   "metadata": {
    "executionInfo": {
     "elapsed": 9,
     "status": "ok",
     "timestamp": 1706420619016,
     "user": {
      "displayName": "Piyanuch Silapachote",
      "userId": "08276091469210251884"
     },
     "user_tz": -420
    },
    "id": "yyWdTUpVpH0-"
   },
   "outputs": [],
   "source": [
    "import sympy as sp\n",
    "\n",
    "x = sp.Symbol('x')\n",
    "fx = sp.log(2*x**2) + sp.sin(4*x/5) - (x/2)\n",
    "    \n",
    "dfx = fx.diff(x)\n",
    "ddfx = dfx.diff(x)\n",
    "    \n",
    "fx = sp.lambdify(x,fx)\n",
    "dfx = sp.lambdify(x,dfx)\n",
    "ddfx = sp.lambdify(x,ddfx)\n",
    "\n",
    "def newtraph(f,fp,x0,Ea=1.e-7,maxit=30):\n",
    "  \"\"\"\n",
    "  This function solves f(x)=0 using the Newton-Raphson method.\n",
    "  The method is repeated until either the relative error\n",
    "  falls below Ea (default 1.e-7) or reaches maxit (default 30).\n",
    "  Input:\n",
    "    f = name of the function for f(x)\n",
    "    fp = name of the function for f'(x)\n",
    "    x0 = initial guess for x\n",
    "    Ea = relative error threshold\n",
    "    maxit = maximum number of iterations\n",
    "  Output:\n",
    "    x1 = solution estimate\n",
    "    f(x1) = equation error at solution estimate\n",
    "    ea = relative error\n",
    "    i+1 = number of iterations\n",
    "  \"\"\"\n",
    "  for i in range(maxit):\n",
    "    x1 = x0-f(x0)/fp(x0)\n",
    "    ea = abs((x1-x0)/x1)*100\n",
    "    if abs(ea) < Ea: break\n",
    "    x0 = x1\n",
    "    return x1,f(x1),ea,i+1\n"
   ]
  },
  {
   "cell_type": "code",
   "execution_count": 2,
   "metadata": {
    "colab": {
     "base_uri": "https://localhost:8080/"
    },
    "executionInfo": {
     "elapsed": 8,
     "status": "ok",
     "timestamp": 1706420619016,
     "user": {
      "displayName": "Piyanuch Silapachote",
      "userId": "08276091469210251884"
     },
     "user_tz": -420
    },
    "id": "lTg2Ya72r6bh",
    "outputId": "14cb1b22-a5aa-4622-a425-e9880523b3ba"
   },
   "outputs": [
    {
     "name": "stdout",
     "output_type": "stream",
     "text": [
      "6.54052 0.20331 23.55348 1\n",
      "0.31111\n",
      "0.50864\n"
     ]
    }
   ],
   "source": [
    "(xsoln,ysoln,ea,n) = newtraph(dfx,ddfx, 5, 0.0005)\n",
    "print(\"%.5f %.5f %.5f %d\"%(xsoln,ysoln,ea,n))\n",
    "print(\"%.5f\"%(fx(xsoln)))\n",
    "print(\"%.5f\"%(ddfx(xsoln)))"
   ]
  },
  {
   "cell_type": "code",
   "execution_count": 3,
   "metadata": {},
   "outputs": [],
   "source": [
    "def newtraph(f,fp,x0,Ea=1.e-7,maxit=30):\n",
    "  \"\"\"\n",
    "  This function solves f(x)=0 using the Newton-Raphson method.\n",
    "  The method is repeated until either the relative error\n",
    "  falls below Ea (default 1.e-7) or reaches maxit (default 30).\n",
    "  Input:\n",
    "    f = name of the function for f(x)\n",
    "    fp = name of the function for f'(x)\n",
    "    x0 = initial guess for x\n",
    "    Ea = relative error threshold\n",
    "    maxit = maximum number of iterations\n",
    "  Output:\n",
    "    x1 = solution estimate\n",
    "    f(x1) = equation error at solution estimate\n",
    "    ea = relative error\n",
    "    i+1 = number of iterations\n",
    "  \"\"\"\n",
    "  for i in range(maxit):\n",
    "    x1 = x0 -f(x0)/fp(x0)\n",
    "    ea = ((x1-x0)/x1)*100\n",
    "    print(\"%.5f %.5f %d\"%(x1, ea, i+1))\n",
    "    if abs(ea) < Ea: break\n",
    "    x0 = x1\n",
    "  return x1,f(x1),ea,i+1"
   ]
  },
  {
   "cell_type": "code",
   "execution_count": 4,
   "metadata": {},
   "outputs": [
    {
     "name": "stdout",
     "output_type": "stream",
     "text": [
      "6.54052 23.55348 1\n",
      "6.14081 -6.50905 2\n",
      "6.16723 0.42842 3\n",
      "6.16729 0.00087 4\n",
      "6.16729 0.00000 5\n",
      "6.16728711044277 -4.996003610813204e-16 3.919079446166117e-09 5\n",
      "0.27243969558040526\n",
      "0.571789947927715\n"
     ]
    }
   ],
   "source": [
    "import sympy as np\n",
    "x = np.Symbol('x')\n",
    "fx = np.log(2*x**2) + np.sin(4*x/5) - (x/2)\n",
    "dfx = fx.diff(x)\n",
    "ddfx = dfx.diff(x)\n",
    "fx = np.lambdify(x,fx)\n",
    "dfx = np.lambdify(x,dfx)\n",
    "ddfx = np.lambdify(x,ddfx)\n",
    "(xm,ym,ea,it) = newtraph(dfx, ddfx ,5,0.0005)\n",
    "print(xm,ym,ea,it)\n",
    "print(fx(xm))\n",
    "print(ddfx(xm))"
   ]
  },
  {
   "cell_type": "code",
   "execution_count": null,
   "metadata": {},
   "outputs": [],
   "source": []
  }
 ],
 "metadata": {
  "colab": {
   "authorship_tag": "ABX9TyN31WKlJu0S0/39mEwJkMN6",
   "provenance": [
    {
     "file_id": "1GHgBRgVffG_HPu_M3do4My6dYTKwBqVf",
     "timestamp": 1703509550829
    },
    {
     "file_id": "1rOcNQvmE0pLdNWfS927bVtouonf0mC32",
     "timestamp": 1703490437287
    }
   ]
  },
  "kernelspec": {
   "display_name": "Python 3 (ipykernel)",
   "language": "python",
   "name": "python3"
  },
  "language_info": {
   "codemirror_mode": {
    "name": "ipython",
    "version": 3
   },
   "file_extension": ".py",
   "mimetype": "text/x-python",
   "name": "python",
   "nbconvert_exporter": "python",
   "pygments_lexer": "ipython3",
   "version": "3.11.5"
  }
 },
 "nbformat": 4,
 "nbformat_minor": 1
}
