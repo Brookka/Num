{
 "cells": [
  {
   "cell_type": "code",
   "execution_count": 1,
   "metadata": {
    "executionInfo": {
     "elapsed": 11,
     "status": "ok",
     "timestamp": 1706417722345,
     "user": {
      "displayName": "Piyanuch Silapachote",
      "userId": "08276091469210251884"
     },
     "user_tz": -420
    },
    "id": "IPzXDAFIErGB"
   },
   "outputs": [],
   "source": [
    "import numpy as np\n",
    "\n",
    "def incsearch(func,xmin,xmax,ns=50):\n",
    "  \"\"\"\n",
    "  incsearch: incremental search locator\n",
    "    incsearch(func,xmin,xmax,ns)\n",
    "    find brackets of x that contain sign changes in\n",
    "    a function of x on an interval\n",
    "  input:\n",
    "    fun = name of the function\n",
    "    xmin, xmax = endpoints of the interval\n",
    "    ns = number of subintervals, default value = 50\n",
    "  output:\n",
    "    nb = number of bracket pairs found\n",
    "    xb = list of bracket pair values\n",
    "    or returns \"no brackets found\"\n",
    "  \"\"\"\n",
    "\n",
    "  x = np.linspace(xmin,xmax,ns+1) # create array of x values\n",
    "  f = [] # build array of corresponding function values\n",
    "  for k in range(ns+1):\n",
    "    f.append(func(x[k]))\n",
    "\n",
    "  nb = 0\n",
    "  xb = []\n",
    "  for k in range(ns): # check adjacent pairs of function values\n",
    "      if (func(x[k]) * func(x[k+1]) < 0): # for sign change\n",
    "        nb = nb + 1 # increment the bracket counter\n",
    "        xb.append((x[k],x[k+1])) # save the bracketing pair\n",
    "  if nb==0:\n",
    "    return 'no brackets found'\n",
    "  else:\n",
    "    return nb, xb"
   ]
  },
  {
   "cell_type": "code",
   "execution_count": 2,
   "metadata": {
    "colab": {
     "base_uri": "https://localhost:8080/"
    },
    "executionInfo": {
     "elapsed": 10,
     "status": "ok",
     "timestamp": 1706417722345,
     "user": {
      "displayName": "Piyanuch Silapachote",
      "userId": "08276091469210251884"
     },
     "user_tz": -420
    },
    "id": "2wZPZ_3gZQEq",
    "outputId": "2792fea5-34af-4481-e78e-22d502c49386"
   },
   "outputs": [
    {
     "name": "stdout",
     "output_type": "stream",
     "text": [
      "7\n"
     ]
    },
    {
     "data": {
      "text/plain": [
       "[(3.24, 3.3),\n",
       " (3.36, 3.42),\n",
       " (3.7199999999999998, 3.7800000000000002),\n",
       " (4.2, 4.26),\n",
       " (4.26, 4.32),\n",
       " (4.68, 4.74),\n",
       " (5.64, 5.699999999999999)]"
      ]
     },
     "execution_count": 2,
     "metadata": {},
     "output_type": "execute_result"
    }
   ],
   "source": [
    "(nb, xb) = incsearch(lambda x: np.sin(10*x) + np.cos(3*x),3,6)\n",
    "print(nb)\n",
    "xb"
   ]
  },
  {
   "cell_type": "code",
   "execution_count": 3,
   "metadata": {
    "executionInfo": {
     "elapsed": 9,
     "status": "ok",
     "timestamp": 1706417722346,
     "user": {
      "displayName": "Piyanuch Silapachote",
      "userId": "08276091469210251884"
     },
     "user_tz": -420
    },
    "id": "2LSffO8YK1d6"
   },
   "outputs": [],
   "source": [
    "import numpy as np\n",
    "import sympy as sp\n",
    "\n",
    "x = sp.Symbol('x')\n",
    "fx = (x**2/9)-(2*sp.sin(x))-1\n",
    "    \n",
    "dfx = fx.diff(x)\n",
    "ddfx = dfx.diff(x)\n",
    "    \n",
    "fx = sp.lambdify(x,fx)\n",
    "dfx = sp.lambdify(x,dfx)\n",
    "ddfx = sp.lambdify(x,ddfx)\n",
    "\n",
    "def bisect(func,xl,xu,es=1.e-7,maxit=30):\n",
    "    \"\"\"\n",
    "    Uses the bisection method to estimate a root of func(x).\n",
    "    The method is iterated until the relative error from\n",
    "    one iteration to the next falls below the specified\n",
    "    value or until the maximum number of iterations is\n",
    "    reached first.\n",
    "    Input:\n",
    "        func = name of the function\n",
    "        xl = lower guess\n",
    "        xu = upper guess\n",
    "        es = relative error specification (default 1.e−7)\n",
    "        maxit = maximum number of iterations allowed (default 30)\n",
    "    Output:\n",
    "        xm = root estimate\n",
    "        ea = actual relative error achieved\n",
    "        i+1 = number of iterations required\n",
    "        or\n",
    "        error message if initial guesses do not bracket solution\n",
    "    \"\"\"\n",
    "\n",
    "    if func(xl)*func(xu)>0:\n",
    "        return 'initial estimates do not bracket solution'\n",
    "    xmold = xl\n",
    "    for i in range(maxit):\n",
    "        #xm = (xl+xu)/2\n",
    "        xm = ( (func(xu)*xl)-(func(xl)*xu) )/ ( func(xu)-func(xl) )\n",
    "        ea = abs((xm-xmold)/xm)*100\n",
    "        if ea < es: break\n",
    "        if func(xm)*func(xl)>0:\n",
    "            xl = xm\n",
    "        else:\n",
    "            xu = xm\n",
    "        xmold = xm\n",
    "    print(\"%.5f %.5f %.5f %d\"%(xm, func(xm), ea, i+1))\n",
    "    return xm,func(xm),ea,i+1\n",
    "#print(\"%.5f %.5f %.5f %d\"%(xm, func(xm), ea, i+1))\n",
    "#print(\"%.5f\"%( (((2*-1.76859)/9) - (2*np.cos(-1.76859)) )))"
   ]
  },
  {
   "cell_type": "code",
   "execution_count": 4,
   "metadata": {
    "colab": {
     "base_uri": "https://localhost:8080/"
    },
    "executionInfo": {
     "elapsed": 9,
     "status": "ok",
     "timestamp": 1706417722347,
     "user": {
      "displayName": "Piyanuch Silapachote",
      "userId": "08276091469210251884"
     },
     "user_tz": -420
    },
    "id": "j8lTMtIoK4-r",
    "outputId": "f0d53485-e5ed-43be-9b1e-d19e47484fc3",
    "scrolled": true
   },
   "outputs": [
    {
     "name": "stdout",
     "output_type": "stream",
     "text": [
      "-1.76859 0.00000 0.00604 4\n",
      "1.30855\n"
     ]
    }
   ],
   "source": [
    "(xm,fxm,ea,i) = bisect( dfx,-3,0,.05)\n",
    "print(\"%.5f\"%(fx(xm)))"
   ]
  },
  {
   "cell_type": "code",
   "execution_count": null,
   "metadata": {},
   "outputs": [],
   "source": []
  },
  {
   "cell_type": "code",
   "execution_count": null,
   "metadata": {},
   "outputs": [],
   "source": []
  }
 ],
 "metadata": {
  "colab": {
   "authorship_tag": "ABX9TyNSWqfxNWCLlHp7b5/CatMv",
   "provenance": [
    {
     "file_id": "1GHgBRgVffG_HPu_M3do4My6dYTKwBqVf",
     "timestamp": 1703509550829
    },
    {
     "file_id": "1rOcNQvmE0pLdNWfS927bVtouonf0mC32",
     "timestamp": 1703490437287
    }
   ]
  },
  "kernelspec": {
   "display_name": "Python 3 (ipykernel)",
   "language": "python",
   "name": "python3"
  },
  "language_info": {
   "codemirror_mode": {
    "name": "ipython",
    "version": 3
   },
   "file_extension": ".py",
   "mimetype": "text/x-python",
   "name": "python",
   "nbconvert_exporter": "python",
   "pygments_lexer": "ipython3",
   "version": "3.11.5"
  }
 },
 "nbformat": 4,
 "nbformat_minor": 1
}
