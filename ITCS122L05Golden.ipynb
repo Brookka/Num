{
 "cells": [
  {
   "cell_type": "code",
   "execution_count": 1,
   "metadata": {
    "executionInfo": {
     "elapsed": 5,
     "status": "ok",
     "timestamp": 1707112847151,
     "user": {
      "displayName": "Piyanuch Silapachote",
      "userId": "08276091469210251884"
     },
     "user_tz": -420
    },
    "id": "IPzXDAFIErGB"
   },
   "outputs": [],
   "source": [
    "import numpy as np\n",
    "\n",
    "def goldmin(f,xl,xu,Ea=1.e-7,maxit=10):\n",
    "    \"\"\"\n",
    "    use the golden-section search to find the minimum of f(x)\n",
    "    input:\n",
    "        f = name of the function\n",
    "        xl = lower initial guess\n",
    "        xu = upper initial guess\n",
    "        Ea = absolute relative error criterion (default = 1.e-7)\n",
    "        maxit = maximum number of iterations (default = 30)\n",
    "    output:\n",
    "        xopt = location of the minimum\n",
    "        f(xopt) = function value at the minimum\n",
    "        ea = absolute relative error achieved\n",
    "        i+1 = number of iterations required\n",
    "    \"\"\"\n",
    "    phi = (1+np.sqrt(5))/2\n",
    "    #d = (phi - 1)*(xu-xl)\n",
    "    d = ((1+5**.5)/2-1) * (xu-xl)\n",
    "    x1 = xl + d ; f1 = f(x1)\n",
    "    x2 = xu - d ; f2 = f(x2)\n",
    "    for i in range(maxit):\n",
    "        xint = xu - xl\n",
    "        print(\"%.5f %.5f %d\"%(xl,xu,i+1))\n",
    "        if f1 < f2:\n",
    "            xopt = x1\n",
    "            xl = x2\n",
    "            x2 = x1\n",
    "            f2 = f1\n",
    "            x1 = xl + (phi-1)*(xu-xl)\n",
    "            f1 = f(x1)\n",
    "        else:\n",
    "            xopt = x2\n",
    "            xu = x1\n",
    "            x1 = x2\n",
    "            f1 = f2\n",
    "            x2 = xu - (phi-1)*(xu-xl)\n",
    "            f2 = f(x2)\n",
    "        if xopt != 0:\n",
    "            ea = (2-phi)*abs(xint/xopt)\n",
    "            if ea <= Ea: break\n",
    "    print(\"%.5f %.5f %.5f %d\"%(xopt, f(xopt), ea, i+1))\n",
    "    return xopt,f(xopt),ea,i+1\n"
   ]
  },
  {
   "cell_type": "code",
   "execution_count": 2,
   "metadata": {
    "colab": {
     "base_uri": "https://localhost:8080/"
    },
    "executionInfo": {
     "elapsed": 12,
     "status": "ok",
     "timestamp": 1707112908432,
     "user": {
      "displayName": "Piyanuch Silapachote",
      "userId": "08276091469210251884"
     },
     "user_tz": -420
    },
    "id": "PHFlVuxn2iE2",
    "outputId": "9d9f23ce-f05f-43f6-b5fb-29ec9d7d8aab",
    "scrolled": true
   },
   "outputs": [
    {
     "name": "stdout",
     "output_type": "stream",
     "text": [
      "-3.00000 3.50000 1\n",
      "-3.00000 1.01722 2\n",
      "-1.46556 1.01722 3\n",
      "-1.46556 0.06888 4\n",
      "-1.46556 -0.51722 5\n",
      "-1.10333 -0.51722 6\n",
      "-1.10333 -0.74109 7\n",
      "-0.96497 -0.74109 8\n",
      "-0.87945 -0.74109 9\n",
      "-0.87945 -0.79394 10\n",
      "-0.82660 1.00080 0.03951 10\n"
     ]
    },
    {
     "data": {
      "text/plain": [
       "(-0.8266044899671929, 1.000796334759916, 0.03951405080737704, 10)"
      ]
     },
     "execution_count": 2,
     "metadata": {},
     "output_type": "execute_result"
    }
   ],
   "source": [
    "#goldmin(lambda x: ((x**2)/9) - (2*np.sin(x))-1 ,0, 3 ,.05)\n",
    "goldmin(lambda x: (1/8)*((x-2)**3)*((1.2*x +1)**2) *(x-3.5)+1 ,-3 , 3.5)"
   ]
  },
  {
   "cell_type": "code",
   "execution_count": 3,
   "metadata": {},
   "outputs": [],
   "source": [
    "import numpy as np\n",
    "\n",
    "def goldmax(f,xl,xu,Ea=1.e-7,maxit=10):\n",
    "    \"\"\"\n",
    "    use the golden-section search to find the minimum of f(x)\n",
    "    input:\n",
    "        f = name of the function\n",
    "        xl = lower initial guess\n",
    "        xu = upper initial guess\n",
    "        Ea = absolute relative error criterion (default = 1.e-7)\n",
    "        maxit = maximum number of iterations (default = 30)\n",
    "    output:\n",
    "        xopt = location of the minimum\n",
    "        f(xopt) = function value at the minimum\n",
    "        ea = absolute relative error achieved\n",
    "        i+1 = number of iterations required\n",
    "    \"\"\"\n",
    "    phi = (1+np.sqrt(5))/2\n",
    "    #d = (phi - 1)*(xu-xl)\n",
    "    d = ((1+5**.5)/2-1) * (xu-xl)\n",
    "    x1 = xl + d ; f1 = f(x1)\n",
    "    x2 = xu - d ; f2 = f(x2)\n",
    "    for i in range(maxit):\n",
    "        xint = xu - xl\n",
    "        print(\"%.5f %.5f %d\"%(xl,xu,i+1))\n",
    "        if f1 > f2:\n",
    "            xopt = x1\n",
    "            xl = x2\n",
    "            x2 = x1\n",
    "            f2 = f1\n",
    "            x1 = xl + (phi-1)*(xu-xl)\n",
    "            f1 = f(x1)\n",
    "        else:\n",
    "            xopt = x2\n",
    "            xu = x1\n",
    "            x1 = x2\n",
    "            f1 = f2\n",
    "            x2 = xu - (phi-1)*(xu-xl)\n",
    "            f2 = f(x2)\n",
    "        if xopt != 0:\n",
    "            ea = (2-phi)*abs(xint/xopt)\n",
    "            if ea <= Ea: break\n",
    "    print(\"%.5f %.5f %.5f %d\"%(xopt, f(xopt), ea, i+1))\n",
    "    return xopt,f(xopt),ea,i+1\n",
    "\n",
    "#print(\"%5.f %5.f %d\"%(xopt, f(xopt), i+1))"
   ]
  },
  {
   "cell_type": "code",
   "execution_count": 4,
   "metadata": {},
   "outputs": [
    {
     "name": "stdout",
     "output_type": "stream",
     "text": [
      "-1.00000 3.50000 1\n",
      "-1.00000 1.78115 2\n",
      "-1.00000 0.71885 3\n",
      "-0.34346 0.71885 4\n",
      "0.06231 0.71885 5\n",
      "0.06231 0.46807 6\n",
      "0.06231 0.31308 7\n",
      "0.15809 0.31308 8\n",
      "0.15809 0.25388 9\n",
      "0.15809 0.21729 10\n",
      "0.19468 4.69953 0.11615 10\n"
     ]
    },
    {
     "data": {
      "text/plain": [
       "(0.19468174628501542, 4.699525947317021, 0.11615107612493815, 10)"
      ]
     },
     "execution_count": 4,
     "metadata": {},
     "output_type": "execute_result"
    }
   ],
   "source": [
    "#goldmax(lambda x: ((x**2)/9) - (2*np.sin(x))-1 ,-3,0, 0.05)\n",
    "goldmax(lambda x: (1/8)*((x-2)**3)*((1.2*x +1)**2) *(x-3.5)+1 ,-1 , 3.5)"
   ]
  },
  {
   "cell_type": "code",
   "execution_count": null,
   "metadata": {},
   "outputs": [],
   "source": []
  }
 ],
 "metadata": {
  "colab": {
   "authorship_tag": "ABX9TyPMUqHHCHTvrHFFwINUDq/J",
   "provenance": [
    {
     "file_id": "1GHgBRgVffG_HPu_M3do4My6dYTKwBqVf",
     "timestamp": 1703509550829
    },
    {
     "file_id": "1rOcNQvmE0pLdNWfS927bVtouonf0mC32",
     "timestamp": 1703490437287
    }
   ]
  },
  "kernelspec": {
   "display_name": "Python 3 (ipykernel)",
   "language": "python",
   "name": "python3"
  },
  "language_info": {
   "codemirror_mode": {
    "name": "ipython",
    "version": 3
   },
   "file_extension": ".py",
   "mimetype": "text/x-python",
   "name": "python",
   "nbconvert_exporter": "python",
   "pygments_lexer": "ipython3",
   "version": "3.11.5"
  }
 },
 "nbformat": 4,
 "nbformat_minor": 1
}
