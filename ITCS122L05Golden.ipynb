{
 "cells": [
  {
   "cell_type": "code",
   "execution_count": 10,
   "metadata": {
    "executionInfo": {
     "elapsed": 5,
     "status": "ok",
     "timestamp": 1707112847151,
     "user": {
      "displayName": "Piyanuch Silapachote",
      "userId": "08276091469210251884"
     },
     "user_tz": -420
    },
    "id": "IPzXDAFIErGB"
   },
   "outputs": [],
   "source": [
    "import numpy as np\n",
    "\n",
    "def goldmin(f,xl,xu,Ea=1.e-7,maxit=30):\n",
    "    \"\"\"\n",
    "    use the golden-section search to find the minimum of f(x)\n",
    "    input:\n",
    "        f = name of the function\n",
    "        xl = lower initial guess\n",
    "        xu = upper initial guess\n",
    "        Ea = absolute relative error criterion (default = 1.e-7)\n",
    "        maxit = maximum number of iterations (default = 30)\n",
    "    output:\n",
    "        xopt = location of the minimum\n",
    "        f(xopt) = function value at the minimum\n",
    "        ea = absolute relative error achieved\n",
    "        i+1 = number of iterations required\n",
    "    \"\"\"\n",
    "    phi = (1+np.sqrt(5))/2\n",
    "    #d = (phi - 1)*(xu-xl)\n",
    "    d = ((1+5**.5)/2-1) * (xu-xl)\n",
    "    x1 = xl + d ; f1 = f(x1)\n",
    "    x2 = xu - d ; f2 = f(x2)\n",
    "    for i in range(maxit):\n",
    "        xint = xu - xl\n",
    "        print(\"%.5f %.5f %d\"%(xl,xu,i+1))\n",
    "        if f1 < f2:\n",
    "            xopt = x1\n",
    "            xl = x2\n",
    "            x2 = x1\n",
    "            f2 = f1\n",
    "            x1 = xl + (phi-1)*(xu-xl)\n",
    "            f1 = f(x1)\n",
    "        else:\n",
    "            xopt = x2\n",
    "            xu = x1\n",
    "            x1 = x2\n",
    "            f1 = f2\n",
    "            x2 = xu - (phi-1)*(xu-xl)\n",
    "            f2 = f(x2)\n",
    "        if xopt != 0:\n",
    "            ea = (2-phi)*abs(xint/xopt)*100\n",
    "            if ea <= Ea: break\n",
    "    print(\"%.5f %.5f %.5f %d\"%(xopt, f(xopt), ea, i+1))\n",
    "    return xopt,f(xopt),ea,i+1\n"
   ]
  },
  {
   "cell_type": "code",
   "execution_count": 11,
   "metadata": {
    "colab": {
     "base_uri": "https://localhost:8080/"
    },
    "executionInfo": {
     "elapsed": 12,
     "status": "ok",
     "timestamp": 1707112908432,
     "user": {
      "displayName": "Piyanuch Silapachote",
      "userId": "08276091469210251884"
     },
     "user_tz": -420
    },
    "id": "PHFlVuxn2iE2",
    "outputId": "9d9f23ce-f05f-43f6-b5fb-29ec9d7d8aab",
    "scrolled": true
   },
   "outputs": [
    {
     "name": "stdout",
     "output_type": "stream",
     "text": [
      "-6.00000 -3.00000 1\n",
      "-4.85410 -3.00000 2\n",
      "-4.85410 -3.70820 3\n",
      "-4.41641 -3.70820 4\n",
      "-4.41641 -3.97871 5\n",
      "-4.41641 -4.14590 6\n",
      "-4.31308 -4.14590 7\n",
      "-4.24922 -4.14590 8\n",
      "-4.24922 -4.18536 9\n",
      "-4.24922 -4.20976 10\n",
      "-4.23415 -4.20976 11\n",
      "-4.23415 -4.21907 12\n",
      "-4.22839 -4.21907 13\n",
      "-4.22839 -4.22263 14\n",
      "-4.22619 -4.22263 15\n",
      "-4.22399 -0.78372 0.03218 15\n"
     ]
    },
    {
     "data": {
      "text/plain": [
       "(-4.223991637982646, -0.7837158037431065, 0.03218073513999536, 15)"
      ]
     },
     "execution_count": 11,
     "metadata": {},
     "output_type": "execute_result"
    }
   ],
   "source": [
    "goldmin(lambda x: ((x**2)/9) - (2*np.sin(x))-1 ,-6,-3 ,.05)\n"
   ]
  },
  {
   "cell_type": "code",
   "execution_count": 3,
   "metadata": {},
   "outputs": [],
   "source": [
    "import numpy as np\n",
    "\n",
    "def goldmax(f,xl,xu,Ea=1.e-7,maxit=30):\n",
    "    \"\"\"\n",
    "    use the golden-section search to find the minimum of f(x)\n",
    "    input:\n",
    "        f = name of the function\n",
    "        xl = lower initial guess\n",
    "        xu = upper initial guess\n",
    "        Ea = absolute relative error criterion (default = 1.e-7)\n",
    "        maxit = maximum number of iterations (default = 30)\n",
    "    output:\n",
    "        xopt = location of the minimum\n",
    "        f(xopt) = function value at the minimum\n",
    "        ea = absolute relative error achieved\n",
    "        i+1 = number of iterations required\n",
    "    \"\"\"\n",
    "    phi = (1+np.sqrt(5))/2\n",
    "    #d = (phi - 1)*(xu-xl)\n",
    "    d = ((1+5**.5)/2-1) * (xu-xl)\n",
    "    x1 = xl + d ; f1 = f(x1)\n",
    "    x2 = xu - d ; f2 = f(x2)\n",
    "    for i in range(maxit):\n",
    "        xint = xu - xl\n",
    "        #print(\"%.5f %.5f %d\"%(xl,xu,i+1))\n",
    "        if f1 > f2:\n",
    "            xopt = x1\n",
    "            xl = x2\n",
    "            x2 = x1\n",
    "            f2 = f1\n",
    "            x1 = xl + (phi-1)*(xu-xl)\n",
    "            f1 = f(x1)\n",
    "        else:\n",
    "            xopt = x2\n",
    "            xu = x1\n",
    "            x1 = x2\n",
    "            f1 = f2\n",
    "            x2 = xu - (phi-1)*(xu-xl)\n",
    "            f2 = f(x2)\n",
    "        if xopt != 0:\n",
    "            ea = (2-phi)*abs(xint/xopt)*100\n",
    "            if ea <= Ea: break\n",
    "    print(\"%.5f %.5f %.5f %d\"%(xopt, f(xopt), ea, i+1))\n",
    "    return xopt,f(xopt),ea,i+1\n",
    "\n",
    "#print(\"%5.f %5.f %d\"%(xopt, f(xopt), i+1))"
   ]
  },
  {
   "cell_type": "code",
   "execution_count": 4,
   "metadata": {},
   "outputs": [
    {
     "name": "stdout",
     "output_type": "stream",
     "text": [
      "-1.76857 1.30855 0.04750 16\n"
     ]
    },
    {
     "data": {
      "text/plain": [
       "(-1.7685700243484188, 1.308550663477762, 0.04750169541786925, 16)"
      ]
     },
     "execution_count": 4,
     "metadata": {},
     "output_type": "execute_result"
    }
   ],
   "source": [
    "goldmax(lambda x: ((x**2)/9) - (2*np.sin(x))-1 ,-3,0, 0.05)"
   ]
  },
  {
   "cell_type": "code",
   "execution_count": null,
   "metadata": {},
   "outputs": [],
   "source": []
  }
 ],
 "metadata": {
  "colab": {
   "authorship_tag": "ABX9TyPMUqHHCHTvrHFFwINUDq/J",
   "provenance": [
    {
     "file_id": "1GHgBRgVffG_HPu_M3do4My6dYTKwBqVf",
     "timestamp": 1703509550829
    },
    {
     "file_id": "1rOcNQvmE0pLdNWfS927bVtouonf0mC32",
     "timestamp": 1703490437287
    }
   ]
  },
  "kernelspec": {
   "display_name": "Python 3 (ipykernel)",
   "language": "python",
   "name": "python3"
  },
  "language_info": {
   "codemirror_mode": {
    "name": "ipython",
    "version": 3
   },
   "file_extension": ".py",
   "mimetype": "text/x-python",
   "name": "python",
   "nbconvert_exporter": "python",
   "pygments_lexer": "ipython3",
   "version": "3.9.12"
  }
 },
 "nbformat": 4,
 "nbformat_minor": 1
}
